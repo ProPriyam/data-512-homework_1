{
 "cells": [
  {
   "cell_type": "code",
   "execution_count": 9,
   "metadata": {},
   "outputs": [],
   "source": [
    "# Data Acquisition for Wikipedia Rare Disease Articles\n",
    "\n",
    "## 1. Import necessary libraries\n",
    "import json\n",
    "import time\n",
    "import urllib.parse\n",
    "import requests\n",
    "import pandas as pd\n",
    "from datetime import datetime, timedelta"
   ]
  },
  {
   "cell_type": "code",
   "execution_count": 10,
   "metadata": {},
   "outputs": [],
   "source": [
    "## 2. Define constants\n",
    "API_REQUEST_PAGEVIEWS_ENDPOINT = 'https://wikimedia.org/api/rest_v1/metrics/pageviews/'\n",
    "API_REQUEST_PER_ARTICLE_PARAMS = 'per-article/{project}/{access}/{agent}/{article}/{granularity}/{start}/{end}'\n",
    "API_LATENCY_ASSUMED = 0.002\n",
    "API_THROTTLE_WAIT = (1.0/100.0) - API_LATENCY_ASSUMED\n",
    "\n",
    "REQUEST_HEADERS = {\n",
    "    'User-Agent': '<pgupta1@uw.edu>, University of Washington, MSDS DATA 512 - AUTUMN 2024',\n",
    "}\n",
    "\n",
    "ARTICLE_PAGEVIEWS_PARAMS_TEMPLATE = {\n",
    "    \"project\": \"en.wikipedia.org\",\n",
    "    \"access\": \"all-access\",  # We'll modify this for different access types\n",
    "    \"agent\": \"user\",\n",
    "    \"article\": \"\",\n",
    "    \"granularity\": \"monthly\",\n",
    "    \"start\": \"2015070100\",\n",
    "    \"end\": \"2024093000\"  # Adjusted to match the assignment requirements\n",
    "}"
   ]
  },
  {
   "cell_type": "code",
   "execution_count": 11,
   "metadata": {},
   "outputs": [],
   "source": [
    "## 3. Load and process CSV file\n",
    "def load_rare_disease_articles(csv_filename):\n",
    "    df = pd.read_csv(csv_filename, names=['disease', 'pageid', 'url'])\n",
    "    return df['disease'].tolist()\n",
    "\n",
    "RARE_DISEASE_ARTICLES = load_rare_disease_articles('wikiURL_data/rare-disease_cleaned.AUG.2024.csv')"
   ]
  },
  {
   "cell_type": "code",
   "execution_count": 12,
   "metadata": {},
   "outputs": [],
   "source": [
    "## 4. Define helper functions\n",
    "def request_pageviews_per_article(article_title, access_type):\n",
    "    params = ARTICLE_PAGEVIEWS_PARAMS_TEMPLATE.copy()\n",
    "    params['article'] = urllib.parse.quote(article_title.replace(' ', '_'))\n",
    "    params['access'] = access_type\n",
    "    \n",
    "    request_url = API_REQUEST_PAGEVIEWS_ENDPOINT + API_REQUEST_PER_ARTICLE_PARAMS.format(**params)\n",
    "    \n",
    "    try:\n",
    "        if API_THROTTLE_WAIT > 0.0:\n",
    "            time.sleep(API_THROTTLE_WAIT)\n",
    "        response = requests.get(request_url, headers=REQUEST_HEADERS)\n",
    "        return response.json()\n",
    "    except Exception as e:\n",
    "        print(f\"Error fetching data for {article_title}: {e}\")\n",
    "        return None\n",
    "\n",
    "def process_pageviews_data(data, access_type):\n",
    "    if not data or 'items' not in data:\n",
    "        return {}\n",
    "    \n",
    "    return {item['timestamp'][:6]: item['views'] for item in data['items']}"
   ]
  },
  {
   "cell_type": "code",
   "execution_count": 13,
   "metadata": {},
   "outputs": [],
   "source": [
    "## 5. Data Acquisition\n",
    "def fetch_pageviews_data(article_list, access_types):\n",
    "    all_data = {}\n",
    "    for article in article_list:\n",
    "        article_data = {}\n",
    "        for access_type in access_types:\n",
    "            raw_data = request_pageviews_per_article(article, access_type)\n",
    "            processed_data = process_pageviews_data(raw_data, access_type)\n",
    "            article_data[access_type] = processed_data\n",
    "        all_data[article] = article_data\n",
    "    return all_data"
   ]
  },
  {
   "cell_type": "code",
   "execution_count": 14,
   "metadata": {},
   "outputs": [
    {
     "name": "stdout",
     "output_type": "stream",
     "text": [
      "Data acquisition complete. JSON files have been created in the output directory.\n"
     ]
    }
   ],
   "source": [
    "## 6. Create JSON files\n",
    "def create_json_files(data):\n",
    "    # Mobile data (sum of mobile-web and mobile-app)\n",
    "    mobile_data = {article: {month: data[article]['mobile-web'].get(month, 0) + data[article]['mobile-app'].get(month, 0) \n",
    "                             for month in set(data[article]['mobile-web']) | set(data[article]['mobile-app'])}\n",
    "                   for article in data}\n",
    "    \n",
    "    with open('Json_data/rare-disease_monthly_mobile_201507-202409.json', 'w') as f:\n",
    "        json.dump(mobile_data, f, indent=2)\n",
    "    \n",
    "    # Desktop data\n",
    "    desktop_data = {article: data[article]['desktop'] for article in data}\n",
    "    with open('Json_data/rare-disease_monthly_desktop_201507-202409.json', 'w') as f:\n",
    "        json.dump(desktop_data, f, indent=2)\n",
    "    \n",
    "    # Cumulative data\n",
    "    cumulative_data = {article: {month: mobile_data[article].get(month, 0) + desktop_data[article].get(month, 0)\n",
    "                                 for month in set(mobile_data[article]) | set(desktop_data[article])}\n",
    "                       for article in data}\n",
    "    with open('Json_data/rare-disease_monthly_cumulative_201507-202409.json', 'w') as f:\n",
    "        json.dump(cumulative_data, f, indent=2)\n",
    "\n",
    "create_json_files(pageviews_data)\n",
    "\n",
    "print(\"Data acquisition complete. JSON files have been created in the output directory.\")"
   ]
  },
  {
   "cell_type": "code",
   "execution_count": null,
   "metadata": {},
   "outputs": [],
   "source": []
  }
 ],
 "metadata": {
  "kernelspec": {
   "display_name": "Testing",
   "language": "python",
   "name": "python3"
  },
  "language_info": {
   "codemirror_mode": {
    "name": "ipython",
    "version": 3
   },
   "file_extension": ".py",
   "mimetype": "text/x-python",
   "name": "python",
   "nbconvert_exporter": "python",
   "pygments_lexer": "ipython3",
   "version": "3.12.0"
  }
 },
 "nbformat": 4,
 "nbformat_minor": 2
}
